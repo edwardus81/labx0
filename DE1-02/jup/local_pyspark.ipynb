{
 "cells": [
  {
   "cell_type": "code",
   "execution_count": 8,
   "id": "681175e8-59aa-4f08-8a49-ca835487431a",
   "metadata": {},
   "outputs": [
    {
     "name": "stdout",
     "output_type": "stream",
     "text": [
      "+-------------+----------------+-----------+--------------+---------+-------------------+--------------------+-------+----+---------+-------+-------+\n",
      "|fixed acidity|volatile acidity|citric acid|residual sugar|chlorides|free sulfur dioxide|total sulfur dioxide|density|  pH|sulphates|alcohol|quality|\n",
      "+-------------+----------------+-----------+--------------+---------+-------------------+--------------------+-------+----+---------+-------+-------+\n",
      "|          7.4|             0.7|          0|           1.9|    0.076|                 11|                  34| 0.9978|3.51|     0.56|    9.4|      5|\n",
      "|          7.8|            0.88|          0|           2.6|    0.098|                 25|                  67| 0.9968| 3.2|     0.68|    9.8|      5|\n",
      "|          7.8|            0.76|       0.04|           2.3|    0.092|                 15|                  54|  0.997|3.26|     0.65|    9.8|      5|\n",
      "|         11.2|            0.28|       0.56|           1.9|    0.075|                 17|                  60|  0.998|3.16|     0.58|    9.8|      6|\n",
      "|          7.4|             0.7|          0|           1.9|    0.076|                 11|                  34| 0.9978|3.51|     0.56|    9.4|      5|\n",
      "+-------------+----------------+-----------+--------------+---------+-------------------+--------------------+-------+----+---------+-------+-------+\n",
      "only showing top 5 rows\n",
      "\n"
     ]
    }
   ],
   "source": [
    "from pyspark.sql import SparkSession\n",
    "\n",
    "# Initialize Spark session with Delta Lake\n",
    "spark = SparkSession.builder \\\n",
    "    .appName(\"LocalWineQualityAnalysis\") \\\n",
    "    .config(\"spark.jars.packages\", \"io.delta:delta-core_2.12:2.4.0\") \\\n",
    "    .config(\"spark.sql.extensions\", \"io.delta.sql.DeltaSparkSessionExtension\") \\\n",
    "    .config(\"spark.sql.catalog.spark_catalog\", \"org.apache.spark.sql.delta.catalog.DeltaCatalog\") \\\n",
    "    .getOrCreate()\n",
    "\n",
    "# Load the dataset\n",
    "df = spark.read.csv(\"../winequality-red.csv\", header=True, sep=\";\")\n",
    "\n",
    "# Show the first 5 rows\n",
    "df.show(5)"
   ]
  },
  {
   "cell_type": "code",
   "execution_count": 9,
   "id": "b2ac463c-0c81-40b1-b619-933e1d1f442c",
   "metadata": {},
   "outputs": [
    {
     "name": "stdout",
     "output_type": "stream",
     "text": [
      "+-------------+----------------+-----------+--------------+---------+-------------------+--------------------+-------+----+---------+-------+-------+\n",
      "|fixed_acidity|volatile_acidity|citric_acid|residual_sugar|chlorides|free_sulfur_dioxide|total_sulfur_dioxide|density|  pH|sulphates|alcohol|quality|\n",
      "+-------------+----------------+-----------+--------------+---------+-------------------+--------------------+-------+----+---------+-------+-------+\n",
      "|          7.4|             0.7|          0|           1.9|    0.076|                 11|                  34| 0.9978|3.51|     0.56|    9.4|      5|\n",
      "|          7.8|            0.88|          0|           2.6|    0.098|                 25|                  67| 0.9968| 3.2|     0.68|    9.8|      5|\n",
      "|          7.8|            0.76|       0.04|           2.3|    0.092|                 15|                  54|  0.997|3.26|     0.65|    9.8|      5|\n",
      "|         11.2|            0.28|       0.56|           1.9|    0.075|                 17|                  60|  0.998|3.16|     0.58|    9.8|      6|\n",
      "|          7.4|             0.7|          0|           1.9|    0.076|                 11|                  34| 0.9978|3.51|     0.56|    9.4|      5|\n",
      "+-------------+----------------+-----------+--------------+---------+-------------------+--------------------+-------+----+---------+-------+-------+\n",
      "only showing top 5 rows\n",
      "\n"
     ]
    }
   ],
   "source": [
    "# Rename columns to replace spaces with underscores\n",
    "new_column_names = [col.replace(\" \", \"_\") for col in df.columns]\n",
    "for old_name, new_name in zip(df.columns, new_column_names):\n",
    "    df = df.withColumnRenamed(old_name, new_name)\n",
    "\n",
    "# Verify the new column names\n",
    "df.show(5)"
   ]
  },
  {
   "cell_type": "code",
   "execution_count": 10,
   "id": "6e4a0348-77c1-4413-9750-a20325b55717",
   "metadata": {},
   "outputs": [
    {
     "name": "stdout",
     "output_type": "stream",
     "text": [
      "Average alcohol content for wines with quality >= 7: 11.518049155145922\n",
      "+-------------+----------------+-----------+--------------+---------+-------------------+--------------------+-------+----+---------+-------+-------+\n",
      "|fixed_acidity|volatile_acidity|citric_acid|residual_sugar|chlorides|free_sulfur_dioxide|total_sulfur_dioxide|density|  pH|sulphates|alcohol|quality|\n",
      "+-------------+----------------+-----------+--------------+---------+-------------------+--------------------+-------+----+---------+-------+-------+\n",
      "|          7.3|            0.65|          0|           1.2|    0.065|                 15|                  21| 0.9946|3.39|     0.47|     10|      7|\n",
      "|          7.8|            0.58|       0.02|             2|    0.073|                  9|                  18| 0.9968|3.36|     0.57|    9.5|      7|\n",
      "|          8.5|            0.28|       0.56|           1.8|    0.092|                 35|                 103| 0.9969| 3.3|     0.75|   10.5|      7|\n",
      "|          8.1|            0.38|       0.28|           2.1|    0.066|                 13|                  30| 0.9968|3.23|     0.73|    9.7|      7|\n",
      "|          7.5|            0.52|       0.16|           1.9|    0.085|                 12|                  35| 0.9968|3.38|     0.62|    9.5|      7|\n",
      "+-------------+----------------+-----------+--------------+---------+-------------------+--------------------+-------+----+---------+-------+-------+\n",
      "only showing top 5 rows\n",
      "\n"
     ]
    }
   ],
   "source": [
    "# Filter for high-quality wines (quality >= 7)\n",
    "high_quality_df = df.filter(df.quality >= 7)\n",
    "\n",
    "# Calculate average alcohol content\n",
    "avg_alcohol_high_quality = high_quality_df.agg({\"alcohol\": \"avg\"}).collect()[0][0]\n",
    "print(f\"Average alcohol content for wines with quality >= 7: {avg_alcohol_high_quality}\")\n",
    "\n",
    "# Show 5 rows\n",
    "high_quality_df.show(5)"
   ]
  },
  {
   "cell_type": "code",
   "execution_count": 12,
   "id": "4dd1eb01-364e-4d73-9fb4-c28a35ca036e",
   "metadata": {},
   "outputs": [
    {
     "name": "stdout",
     "output_type": "stream",
     "text": [
      "root\n",
      " |-- fixed_acidity: float (nullable = true)\n",
      " |-- volatile_acidity: float (nullable = true)\n",
      " |-- citric_acid: float (nullable = true)\n",
      " |-- residual_sugar: float (nullable = true)\n",
      " |-- chlorides: float (nullable = true)\n",
      " |-- free_sulfur_dioxide: float (nullable = true)\n",
      " |-- total_sulfur_dioxide: float (nullable = true)\n",
      " |-- density: float (nullable = true)\n",
      " |-- pH: float (nullable = true)\n",
      " |-- sulphates: float (nullable = true)\n",
      " |-- alcohol: float (nullable = true)\n",
      " |-- quality: integer (nullable = true)\n",
      "\n"
     ]
    },
    {
     "name": "stderr",
     "output_type": "stream",
     "text": [
      "25/05/19 20:00:37 WARN package: Truncated the string representation of a plan since it was too large. This behavior can be adjusted by setting 'spark.sql.debug.maxToStringFields'.\n",
      "                                                                                "
     ]
    },
    {
     "name": "stdout",
     "output_type": "stream",
     "text": [
      "+-------------+----------------+-----------+--------------+---------+-------------------+--------------------+-------+----+---------+-------+-------+\n",
      "|fixed_acidity|volatile_acidity|citric_acid|residual_sugar|chlorides|free_sulfur_dioxide|total_sulfur_dioxide|density|  pH|sulphates|alcohol|quality|\n",
      "+-------------+----------------+-----------+--------------+---------+-------------------+--------------------+-------+----+---------+-------+-------+\n",
      "|          7.4|             0.7|        0.0|           1.9|    0.076|               11.0|                34.0| 0.9978|3.51|     0.56|    9.4|      5|\n",
      "|          7.8|            0.88|        0.0|           2.6|    0.098|               25.0|                67.0| 0.9968| 3.2|     0.68|    9.8|      5|\n",
      "|          7.8|            0.76|       0.04|           2.3|    0.092|               15.0|                54.0|  0.997|3.26|     0.65|    9.8|      5|\n",
      "|         11.2|            0.28|       0.56|           1.9|    0.075|               17.0|                60.0|  0.998|3.16|     0.58|    9.8|      6|\n",
      "|          7.4|             0.7|        0.0|           1.9|    0.076|               11.0|                34.0| 0.9978|3.51|     0.56|    9.4|      5|\n",
      "+-------------+----------------+-----------+--------------+---------+-------------------+--------------------+-------+----+---------+-------+-------+\n",
      "only showing top 5 rows\n",
      "\n"
     ]
    }
   ],
   "source": [
    "from pyspark.sql.types import FloatType, IntegerType\n",
    "\n",
    "# Cast columns to appropriate types\n",
    "numeric_cols = [\"fixed_acidity\", \"volatile_acidity\", \"citric_acid\", \"residual_sugar\", \n",
    "                \"chlorides\", \"free_sulfur_dioxide\", \"total_sulfur_dioxide\", \"density\", \n",
    "                \"pH\", \"sulphates\", \"alcohol\"]\n",
    "for col in numeric_cols:\n",
    "    df = df.withColumn(col, df[col].cast(FloatType()))\n",
    "df = df.withColumn(\"quality\", df[\"quality\"].cast(IntegerType()))\n",
    "\n",
    "# Verify schema\n",
    "df.printSchema()\n",
    "\n",
    "# Save as Delta table\n",
    "df.write.format(\"delta\").mode(\"overwrite\").save(\"../delta/winequality-red\")\n",
    "\n",
    "# Load and verify\n",
    "df_delta = spark.read.format(\"delta\").load(\"../delta/winequality-red\")\n",
    "df_delta.show(5)"
   ]
  },
  {
   "cell_type": "code",
   "execution_count": 13,
   "id": "8a2004c5-b2d1-4fb6-acfa-373266939dac",
   "metadata": {},
   "outputs": [
    {
     "name": "stdout",
     "output_type": "stream",
     "text": [
      "+-------+------------------+\n",
      "|quality|       avg_alcohol|\n",
      "+-------+------------------+\n",
      "|      3| 9.954999828338623|\n",
      "|      4|10.265094343221412|\n",
      "|      5| 9.899706287356025|\n",
      "|      6|10.629519308622355|\n",
      "|      7|11.465912914755357|\n",
      "|      8|12.094444433848063|\n",
      "+-------+------------------+\n",
      "\n"
     ]
    }
   ],
   "source": [
    "# Register the Delta table as a temporary view for SQL queries\n",
    "df_delta.createOrReplaceTempView(\"winequality\")\n",
    "\n",
    "# Run a SQL query: Average alcohol by quality\n",
    "result = spark.sql(\"\"\"\n",
    "    SELECT quality, AVG(alcohol) as avg_alcohol\n",
    "    FROM winequality\n",
    "    GROUP BY quality\n",
    "    ORDER BY quality\n",
    "\"\"\")\n",
    "result.show()"
   ]
  },
  {
   "cell_type": "code",
   "execution_count": 14,
   "id": "83bb9052-aa0d-421f-a0e4-6ce2cc226fff",
   "metadata": {},
   "outputs": [
    {
     "name": "stdout",
     "output_type": "stream",
     "text": [
      "Overall average alcohol: 10.422983095003262\n",
      "+-------+---------------+\n",
      "|quality|count_above_avg|\n",
      "+-------+---------------+\n",
      "|      3|              3|\n",
      "|      4|             20|\n",
      "|      5|            137|\n",
      "|      6|            335|\n",
      "|      7|            172|\n",
      "|      8|             16|\n",
      "+-------+---------------+\n",
      "\n"
     ]
    }
   ],
   "source": [
    "# Calculate overall average alcohol\n",
    "overall_avg_alcohol = df_delta.agg({\"alcohol\": \"avg\"}).collect()[0][0]\n",
    "print(f\"Overall average alcohol: {overall_avg_alcohol}\")\n",
    "\n",
    "# Register the view (already done, but ensure it's active)\n",
    "df_delta.createOrReplaceTempView(\"winequality\")\n",
    "\n",
    "# SQL query: Wines with alcohol above overall average, grouped by quality\n",
    "result = spark.sql(f\"\"\"\n",
    "    SELECT quality, COUNT(*) as count_above_avg\n",
    "    FROM winequality\n",
    "    WHERE alcohol > {overall_avg_alcohol}\n",
    "    GROUP BY quality\n",
    "    ORDER BY quality\n",
    "\"\"\")\n",
    "result.show()"
   ]
  },
  {
   "cell_type": "code",
   "execution_count": 15,
   "id": "2676a4de-208d-43fd-8ede-701f5e29afbf",
   "metadata": {},
   "outputs": [
    {
     "name": "stderr",
     "output_type": "stream",
     "text": [
      "                                                                                "
     ]
    },
    {
     "name": "stdout",
     "output_type": "stream",
     "text": [
      "+-------------+----------------+-----------+--------------+---------+-------------------+--------------------+-------+----+---------+-------+-------+-------------------+\n",
      "|fixed_acidity|volatile_acidity|citric_acid|residual_sugar|chlorides|free_sulfur_dioxide|total_sulfur_dioxide|density|  pH|sulphates|alcohol|quality| alcohol_normalized|\n",
      "+-------------+----------------+-----------+--------------+---------+-------------------+--------------------+-------+----+---------+-------+-------+-------------------+\n",
      "|          7.3|            0.65|        0.0|           1.2|    0.065|               15.0|                21.0| 0.9946|3.39|     0.47|   10.0|      7| 0.1666666997803569|\n",
      "|          7.8|            0.58|       0.02|           2.0|    0.073|                9.0|                18.0| 0.9968|3.36|     0.57|    9.5|      7| 0.0625000372529015|\n",
      "|          8.5|            0.28|       0.56|           1.8|    0.092|               35.0|               103.0| 0.9969| 3.3|     0.75|   10.5|      7| 0.2708333623078123|\n",
      "|          8.1|            0.38|       0.28|           2.1|    0.066|               13.0|                30.0| 0.9968|3.23|     0.73|    9.7|      7|0.10416666252745539|\n",
      "|          7.5|            0.52|       0.16|           1.9|    0.085|               12.0|                35.0| 0.9968|3.38|     0.62|    9.5|      7| 0.0625000372529015|\n",
      "+-------------+----------------+-----------+--------------+---------+-------------------+--------------------+-------+----+---------+-------+-------+-------------------+\n",
      "only showing top 5 rows\n",
      "\n"
     ]
    }
   ],
   "source": [
    "from pyspark.sql.functions import col\n",
    "\n",
    "# Extract: High-quality wines (quality >= 7)\n",
    "high_quality_df = df_delta.filter(col(\"quality\") >= 7)\n",
    "\n",
    "# Transform: Normalize alcohol\n",
    "min_alcohol = high_quality_df.agg({\"alcohol\": \"min\"}).collect()[0][0]\n",
    "max_alcohol = high_quality_df.agg({\"alcohol\": \"max\"}).collect()[0][0]\n",
    "high_quality_df = high_quality_df.withColumn(\"alcohol_normalized\", \n",
    "                                            (col(\"alcohol\") - min_alcohol) / (max_alcohol - min_alcohol))\n",
    "\n",
    "# Load: Save as a new Delta table\n",
    "high_quality_df.write.format(\"delta\").mode(\"overwrite\").save(\"../delta/high_quality_wines\")\n",
    "\n",
    "# Verify the new table\n",
    "new_df = spark.read.format(\"delta\").load(\"../delta/high_quality_wines\")\n",
    "new_df.show(5)"
   ]
  },
  {
   "cell_type": "code",
   "execution_count": null,
   "id": "10a18f59-4bae-4383-80b2-210bc7421ae2",
   "metadata": {},
   "outputs": [],
   "source": []
  },
  {
   "cell_type": "code",
   "execution_count": null,
   "id": "34e60490-5ce2-4181-82b4-679fa7e95279",
   "metadata": {},
   "outputs": [],
   "source": []
  }
 ],
 "metadata": {
  "kernelspec": {
   "display_name": "Python [conda env:data_eng]",
   "language": "python",
   "name": "data_eng"
  },
  "language_info": {
   "codemirror_mode": {
    "name": "ipython",
    "version": 3
   },
   "file_extension": ".py",
   "mimetype": "text/x-python",
   "name": "python",
   "nbconvert_exporter": "python",
   "pygments_lexer": "ipython3",
   "version": "3.9.21"
  }
 },
 "nbformat": 4,
 "nbformat_minor": 5
}
